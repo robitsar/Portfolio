{
 "cells": [
  {
   "cell_type": "code",
   "execution_count": null,
   "metadata": {
    "dotnet_interactive": {
     "language": "fsharp"
    },
    "polyglot_notebook": {
     "kernelName": "fsharp"
    }
   },
   "outputs": [],
   "source": [
    "#r \"nuget: XPlot.Plotly\"\n",
    "#r \"nuget: XPlot.Plotly.Interactive\"\n",
    "#r \"nuget: FSharp.Data\"\n",
    "#r \"nuget: Deedle\"\n"
   ]
  },
  {
   "cell_type": "code",
   "execution_count": null,
   "metadata": {
    "dotnet_interactive": {
     "language": "fsharp"
    },
    "polyglot_notebook": {
     "kernelName": "fsharp"
    }
   },
   "outputs": [],
   "source": [
    "open System\n",
    "open XPlot.Plotly\n",
    "open FSharp.Data\n",
    "open Microsoft.DotNet.Interactive.Formatting\n",
    "open Deedle\n"
   ]
  },
  {
   "cell_type": "code",
   "execution_count": null,
   "metadata": {
    "dotnet_interactive": {
     "language": "fsharp"
    },
    "polyglot_notebook": {
     "kernelName": "fsharp"
    }
   },
   "outputs": [],
   "source": [
    "//get an array of 3 occurences\n",
    "let dat = [| 10; 20; 30 |]\n",
    "\n",
    "//print the array \n",
    "Array.iter (fun x -> printfn \"%d\" x) dat\n",
    "\n",
    "//let now simulate a larger dataset of 100 random numbers\n",
    "//one commom functionality to generate normal ¨normally distributed numbers is the Box-Muller transform\n",
    "// Setting a seed for the random number generator\n",
    "let seed = 154\n",
    "let random = Random(seed)\n",
    "\n",
    "let boxMullerTransform (rand : Random) =\n",
    "    let u1 = random.NextDouble()\n",
    "    let u2 = random.NextDouble()\n",
    "    let z0 = Math.Sqrt(-2.0 * Math.Log(u1)) * Math.Cos(2.0 * Math.PI * u2)\n",
    "    z0"
   ]
  },
  {
   "cell_type": "code",
   "execution_count": null,
   "metadata": {
    "dotnet_interactive": {
     "language": "fsharp"
    },
    "polyglot_notebook": {
     "kernelName": "fsharp"
    }
   },
   "outputs": [],
   "source": [
    "let values = Array.init 10 (fun _ -> boxMullerTransform(random))\n",
    "// Printing the array\n",
    "Array.iter (fun value -> printfn \"%f\" value) values\n",
    "\n",
    "let histogram = \n",
    "    Histogram(\n",
    "        x = values,\n",
    "        autobinx = true\n",
    "    )\n",
    "\n",
    "let layout = Layout(title = \"Normal Distribution\")\n",
    "\n",
    "Chart.Plot([histogram])\n",
    "|> Chart.WithTitle(\"Normal Distribution\")\n",
    "\n",
    "\n"
   ]
  },
  {
   "cell_type": "code",
   "execution_count": null,
   "metadata": {
    "dotnet_interactive": {
     "language": "fsharp"
    },
    "polyglot_notebook": {
     "kernelName": "fsharp"
    }
   },
   "outputs": [],
   "source": [
    "let z = 3\n",
    "let x = [1; 2; 3; 4; 5]\n",
    "let y = [1; 4; 9; 16; 25]\n",
    "printfn $\"z = {z}\"\n",
    "\n",
    "let scatter = Scattergl(x = x, y = y, mode = \"markers\")\n",
    "\n",
    "Chart.Plot([scatter])\n",
    "|> Chart.WithTitle(\"Scatter Plot\")\n",
    "|> Chart.WithXTitle(\"X-Axis\")\n",
    "|> Chart.WithYTitle(\"Y-Axis\")"
   ]
  },
  {
   "cell_type": "code",
   "execution_count": null,
   "metadata": {
    "dotnet_interactive": {
     "language": "fsharp"
    },
    "polyglot_notebook": {
     "kernelName": "fsharp"
    }
   },
   "outputs": [],
   "source": [
    "let today = DateTime.Today\n",
    "let startDate = new DateTime(2000, 1, 1) // Example start date\n",
    "let url = \n",
    "        sprintf \"https://query1.finance.yahoo.com/v7/finance/download/^GSPC?period1=0&period2=9999999999&&interval=1d&events=history&includeAdjustedClose=true\" \n",
    "                \n"
   ]
  },
  {
   "cell_type": "code",
   "execution_count": null,
   "metadata": {
    "dotnet_interactive": {
     "language": "fsharp"
    },
    "polyglot_notebook": {
     "kernelName": "fsharp"
    }
   },
   "outputs": [],
   "source": [
    "let fetchSP500Data () =      \n",
    "    try\n",
    "        Some(Http.RequestString(url))\n",
    "    with\n",
    "    | :? System.Net.WebException as e -> \n",
    "        printfn \"An error occurred: %s\" e.Message\n",
    "        None\n",
    "\n",
    "match fetchSP500Data () with\n",
    "| Some data -> \n",
    "    printfn \"%s\" data // Prints the CSV data\n",
    "| None -> \n",
    "    printfn \"Failed to fetch S&P 500 data\""
   ]
  },
  {
   "cell_type": "code",
   "execution_count": null,
   "metadata": {
    "dotnet_interactive": {
     "language": "fsharp"
    },
    "polyglot_notebook": {
     "kernelName": "fsharp"
    }
   },
   "outputs": [],
   "source": [
    "let saveDataToCsv (filePath: string) (data: string) =\n",
    "    System.IO.File.WriteAllText(filePath, data)\n",
    "\n",
    "let sp500Data = fetchSP500Data ()\n",
    "match sp500Data with\n",
    "| Some data -> \n",
    "    let filePath = __SOURCE_DIRECTORY__ + \"/../data/sp500data.csv\" \n",
    "    saveDataToCsv filePath data\n",
    "    printfn \"Data saved to %s\" filePath\n",
    "| None -> \n",
    "    printfn \"Failed to fetch or save S&P 500 data\""
   ]
  },
  {
   "cell_type": "code",
   "execution_count": null,
   "metadata": {
    "dotnet_interactive": {
     "language": "fsharp"
    },
    "polyglot_notebook": {
     "kernelName": "fsharp"
    }
   },
   "outputs": [],
   "source": [
    "let sp500 =\n",
    "    CsvFile\n",
    "        .Load(__SOURCE_DIRECTORY__ + \"/../data/sp500data.csv\")\n",
    "        .Cache()"
   ]
  },
  {
   "cell_type": "markdown",
   "metadata": {},
   "source": []
  },
  {
   "cell_type": "code",
   "execution_count": null,
   "metadata": {
    "dotnet_interactive": {
     "language": "fsharp"
    },
    "polyglot_notebook": {
     "kernelName": "fsharp"
    }
   },
   "outputs": [],
   "source": [
    "// Print the prices in the HLOC format\n",
    "for row in sp500.Rows |> Seq.truncate 10 do\n",
    "    printfn \"HLOC: (%s, %s, %s)\" (row.GetColumn \"High\") (row.GetColumn \"Low\") (row.GetColumn \"Date\")\n"
   ]
  },
  {
   "cell_type": "code",
   "execution_count": null,
   "metadata": {
    "dotnet_interactive": {
     "language": "fsharp"
    },
    "polyglot_notebook": {
     "kernelName": "fsharp"
    }
   },
   "outputs": [],
   "source": [
    "let filePath = __SOURCE_DIRECTORY__ + \"/../data/sp500data.csv\" \n",
    "let df = Frame.ReadCsv(filePath)"
   ]
  },
  {
   "cell_type": "code",
   "execution_count": null,
   "metadata": {
    "dotnet_interactive": {
     "language": "fsharp"
    },
    "polyglot_notebook": {
     "kernelName": "fsharp"
    }
   },
   "outputs": [],
   "source": [
    "let df_Ord = \n",
    "  df\n",
    "  |> Frame.indexRowsDate \"Date\"\n",
    "  |> Frame.sortRowsByKey"
   ]
  },
  {
   "cell_type": "code",
   "execution_count": null,
   "metadata": {
    "dotnet_interactive": {
     "language": "fsharp"
    },
    "polyglot_notebook": {
     "kernelName": "fsharp"
    }
   },
   "outputs": [],
   "source": []
  }
 ],
 "metadata": {
  "kernelspec": {
   "display_name": ".NET (C#)",
   "language": "C#",
   "name": ".net-csharp"
  },
  "language_info": {
   "name": "polyglot-notebook"
  },
  "polyglot_notebook": {
   "kernelInfo": {
    "defaultKernelName": "csharp",
    "items": [
     {
      "aliases": [],
      "name": "csharp"
     },
     {
      "aliases": [],
      "languageName": "fsharp",
      "name": "fsharp"
     }
    ]
   }
  }
 },
 "nbformat": 4,
 "nbformat_minor": 2
}
