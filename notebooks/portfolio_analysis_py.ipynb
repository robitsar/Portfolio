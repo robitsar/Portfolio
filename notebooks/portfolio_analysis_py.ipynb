{
 "cells": [
  {
   "cell_type": "markdown",
   "metadata": {},
   "source": [
    "The goal of this little analysis is to a portfolio analysis on the S&P 500 World Index (from yahoo financial datasource) "
   ]
  },
  {
   "cell_type": "code",
   "execution_count": null,
   "metadata": {},
   "outputs": [],
   "source": [
    "import pandas as pd\n",
    "import numpy as np\n",
    "import matplotlib.pyplot as plt\n",
    "from datetime import datetime"
   ]
  },
  {
   "cell_type": "code",
   "execution_count": null,
   "metadata": {},
   "outputs": [],
   "source": [
    "#load S&P data - creating a data frame\n",
    "df = pd.read_csv(\"../data/sp500data.csv\", parse_dates=['Date'], index_col='Date')\n",
    "#set data to index\n",
    "#f['Date'] = pd.to_datetime(df['Date'])\n",
    "#df.index = pd.to_datetime(df.index)\n",
    "print(df.head())\n"
   ]
  },
  {
   "cell_type": "code",
   "execution_count": null,
   "metadata": {},
   "outputs": [],
   "source": [
    "#Chunk Dataframe - 10 years of historical information\n",
    "\n",
    "def filter_df(df, start_date):\n",
    "\n",
    "    # Get the current date\n",
    "    end_date = datetime.now()\n",
    "\n",
    "    # Filter the DataFrame for the date range\n",
    "    return df[(df.index >= start_date) & (df.index <= end_date)]\n",
    "\n",
    "start_date = pd.Timestamp('2023-01-01')\n",
    "df_new = filter_df(df, start_date)\n",
    "df_new.head(2)\n",
    "\n",
    "\n",
    "\n"
   ]
  },
  {
   "cell_type": "code",
   "execution_count": null,
   "metadata": {},
   "outputs": [],
   "source": [
    "#function to calculate monthly returns = (current - prev) / prev)\n",
    "def calculate_returns(close_price):\n",
    "    returns = []\n",
    "    for i in range(1, len(close_price)):\n",
    "        current = close_price[i]\n",
    "        prev = close_price[i-1]\n",
    "        daily_return = (current - prev) / prev * 100\n",
    "        returns.append(daily_return)\n",
    "    return returns"
   ]
  },
  {
   "cell_type": "code",
   "execution_count": null,
   "metadata": {},
   "outputs": [],
   "source": [
    "#in python - it is possible to use the pourcentage change\n",
    "''' def calculate_returns(df, column_name):\n",
    "    df['Ret'] = df[column_name].pct_change() * 100\n",
    "    return df\n",
    "\n",
    "# Calculate daily returns\n",
    "df_ret = calculate_returns(df, 'Close')\n",
    "df_ret.head(10) '''\n",
    "\n",
    "#with lambda function\n",
    "calculate_returns = lambda x: 0 if np.isnan(x) else x * 100\n",
    "\n",
    "# Apply the lambda function to the selected close price column\n",
    "# We use pct_change() to calculate the percentage change and then apply the lambda function\n",
    "df_new['Ret'] = df_new['Close'].pct_change().apply(calculate_returns)\n",
    "\n",
    "# Calculate cumulative return\n",
    "df_new['Cum_ret'] = (1 + df_new['Ret']).cumprod() - 1\n",
    "\n",
    "df_new.head(3)\n",
    "\n"
   ]
  },
  {
   "cell_type": "code",
   "execution_count": null,
   "metadata": {},
   "outputs": [],
   "source": [
    "#Plotting daily returns\n",
    "plt.figure(figsize=(10, 6))\n",
    "plt.plot(df_new['Ret'], marker='o', linestyle='-')\n",
    "plt.title('Daily Returns Over Time')\n",
    "plt.xlabel('Days')\n",
    "plt.ylabel('Daily Returns (%)')\n",
    "plt.grid(True)\n",
    "plt.show()\n",
    "\n"
   ]
  },
  {
   "cell_type": "code",
   "execution_count": null,
   "metadata": {},
   "outputs": [],
   "source": [
    "#Plotting cumulative return\n",
    "# Plotting\n",
    "plt.figure(figsize=(10, 6))\n",
    "plt.plot(df_new['Cum_ret'], marker='o', linestyle='-')\n",
    "plt.title('Cumulative Return Over Time')\n",
    "plt.xlabel('Days')\n",
    "plt.ylabel('Cumulative Return')\n",
    "plt.grid(True)\n",
    "plt.show()\n"
   ]
  },
  {
   "cell_type": "code",
   "execution_count": null,
   "metadata": {},
   "outputs": [],
   "source": [
    "from ydata_profiling import ProfileReport\n",
    "profile = ProfileReport(df_new, title=\"Profiling Report\")"
   ]
  },
  {
   "cell_type": "code",
   "execution_count": null,
   "metadata": {},
   "outputs": [],
   "source": [
    "profile.to_notebook_iframe()"
   ]
  },
  {
   "cell_type": "code",
   "execution_count": null,
   "metadata": {},
   "outputs": [],
   "source": [
    "profile.to_file(\"books_data.html\")"
   ]
  },
  {
   "cell_type": "code",
   "execution_count": null,
   "metadata": {},
   "outputs": [],
   "source": []
  }
 ],
 "metadata": {
  "kernelspec": {
   "display_name": "Python 3",
   "language": "python",
   "name": "python3"
  },
  "language_info": {
   "codemirror_mode": {
    "name": "ipython",
    "version": 3
   },
   "file_extension": ".py",
   "mimetype": "text/x-python",
   "name": "python",
   "nbconvert_exporter": "python",
   "pygments_lexer": "ipython3",
   "version": "3.9.7"
  }
 },
 "nbformat": 4,
 "nbformat_minor": 2
}
